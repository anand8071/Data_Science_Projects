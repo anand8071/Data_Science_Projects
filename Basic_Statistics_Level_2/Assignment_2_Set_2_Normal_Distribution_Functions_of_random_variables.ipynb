{
  "nbformat": 4,
  "nbformat_minor": 0,
  "metadata": {
    "colab": {
      "provenance": []
    },
    "kernelspec": {
      "name": "python3",
      "display_name": "Python 3"
    },
    "language_info": {
      "name": "python"
    }
  },
  "cells": [
    {
      "cell_type": "code",
      "execution_count": 1,
      "metadata": {
        "id": "OrMfILeW6tu7"
      },
      "outputs": [],
      "source": [
        "import pandas as pd\n",
        "import numpy as np\n",
        "import matplotlib.pyplot as plt\n",
        "import scipy.stats as stats\n",
        "from scipy.stats import norm\n",
        "import seaborn as sns\n",
        "import warnings \n",
        "warnings.filterwarnings('ignore') \n"
      ]
    },
    {
      "cell_type": "markdown",
      "source": [
        "#1.\tThe time required for servicing transmissions is normally distributed with mew = 45 minutes and SD = 8 minutes. The service manager plans to have work begin on the transmission of a customer’s car 10 minutes after the car is dropped off and the customer is told that the car will be ready within 1 hour from drop-off. What is the probability that the service manager cannot meet his commitment? \n",
        "\n",
        "**A.\t0.3875   \n",
        "B.\t0.2676   \n",
        "C.\t0.5   \n",
        "D.\t0.6987**\n"
      ],
      "metadata": {
        "id": "geRI3BMb7vVc"
      }
    },
    {
      "cell_type": "code",
      "source": [
        "# The service of car will began after 10 min of car dropped off so 45+8= 55min\n",
        "#  if work will start after 10min then it will take more than 1 hour to complete this task \n",
        "mew =55\n",
        "std = 8\n",
        "P= stats.norm.sf(60,loc=mew,scale=std)\n",
        "print(\"The probability that the service manager cannot meet his commitment is\", round(P,4))"
      ],
      "metadata": {
        "colab": {
          "base_uri": "https://localhost:8080/"
        },
        "id": "rpus-Qj77rXH",
        "outputId": "9d7e6b1b-6256-4404-b9ed-c37ccb3c7189"
      },
      "execution_count": 2,
      "outputs": [
        {
          "output_type": "stream",
          "name": "stdout",
          "text": [
            "The probability that the service manager cannot meet his commitment is 0.266\n"
          ]
        }
      ]
    },
    {
      "cell_type": "markdown",
      "source": [
        "##Question 2.\tThe current age (in years) of 400 clerical employees at an insurance claims processing center is normally distributed with mean  = 38 and Standard deviation  =6. For each statement below, please specify True/False. If false, briefly explain why.\n",
        "**A.\tMore employees at the processing center are older than 44 than between 38 and 44.**\n",
        "\n",
        "**B.\tA training program for employees under the age of 30 at the center would be expected to attract about 36 employees.**\n"
      ],
      "metadata": {
        "id": "sB3VS1Ed_2fu"
      }
    },
    {
      "cell_type": "markdown",
      "source": [
        "#### A. More employees at the processing center are older than 44 than between 38 and 44.\n"
      ],
      "metadata": {
        "id": "tWyrmuuNzmjC"
      }
    },
    {
      "cell_type": "code",
      "source": [
        "# Employees older than 44(X>44)\n",
        "1-stats.norm.cdf(44,loc=38,scale=6)"
      ],
      "metadata": {
        "colab": {
          "base_uri": "https://localhost:8080/"
        },
        "id": "b1PNJx93i_vh",
        "outputId": "d0105923-bded-4a44-dce0-2ca795fa8916"
      },
      "execution_count": 3,
      "outputs": [
        {
          "output_type": "execute_result",
          "data": {
            "text/plain": [
              "0.15865525393145707"
            ]
          },
          "metadata": {},
          "execution_count": 3
        }
      ]
    },
    {
      "cell_type": "code",
      "source": [
        "# Employee between age  38 and 44.(38<X<44)\n",
        "stats.norm.cdf(44,loc=38,scale=6)-stats.norm.cdf(38,loc=38,scale=6)"
      ],
      "metadata": {
        "colab": {
          "base_uri": "https://localhost:8080/"
        },
        "id": "1ekIqLLfhn_t",
        "outputId": "2ca9b561-cff9-41c2-eba8-b33cea9a0a25"
      },
      "execution_count": 4,
      "outputs": [
        {
          "output_type": "execute_result",
          "data": {
            "text/plain": [
              "0.3413447460685429"
            ]
          },
          "metadata": {},
          "execution_count": 4
        }
      ]
    },
    {
      "cell_type": "markdown",
      "source": [
        "#### B. A training program for employees under the age of 30 at the center would be expected to attract about 36 employees.\n"
      ],
      "metadata": {
        "id": "jmmkPFCizubR"
      }
    },
    {
      "cell_type": "code",
      "source": [
        "# Employees under age of 30 (X<30)\n",
        "stats.norm.cdf(30,loc=38,scale=6)"
      ],
      "metadata": {
        "colab": {
          "base_uri": "https://localhost:8080/"
        },
        "id": "-Y7ue4UUjWsc",
        "outputId": "db77c4e1-6734-4ae3-9486-954d1753c195"
      },
      "execution_count": 5,
      "outputs": [
        {
          "output_type": "execute_result",
          "data": {
            "text/plain": [
              "0.09121121972586788"
            ]
          },
          "metadata": {},
          "execution_count": 5
        }
      ]
    },
    {
      "cell_type": "code",
      "source": [
        "#  The center would be the expected to attact about 36 employees\n",
        "400*stats.norm.cdf(30,loc=38,scale=6)"
      ],
      "metadata": {
        "colab": {
          "base_uri": "https://localhost:8080/"
        },
        "id": "PvmW8SggjtzG",
        "outputId": "9df439ad-dad8-4734-f38e-1d257deab891"
      },
      "execution_count": 6,
      "outputs": [
        {
          "output_type": "execute_result",
          "data": {
            "text/plain": [
              "36.484487890347154"
            ]
          },
          "metadata": {},
          "execution_count": 6
        }
      ]
    },
    {
      "cell_type": "markdown",
      "source": [
        "#4.\tLet X ~ N(100, 202). Find two values, a and b, symmetric about the mean, such that the probability of the random variable taking a value between them is 0.99. \n",
        "\n",
        "**A.\t90.5, 105.9**\n",
        "\n",
        "**B.\t80.2, 119.8** \n",
        "\n",
        "**C.\t22, 78** \n",
        "**D.\t48.5, 151.5** \n",
        "\n",
        "**E.\t90.1, 109.9**\n"
      ],
      "metadata": {
        "id": "m4Iu1d9kmRb0"
      }
    },
    {
      "cell_type": "code",
      "source": [
        "a=stats.norm.interval(0.99,loc=100,scale=20)\n",
        "print(\" two values, a and b, symmetric about the mean, such that the probability of the random variable taking a value between them is\", np.round(a,2))"
      ],
      "metadata": {
        "colab": {
          "base_uri": "https://localhost:8080/"
        },
        "id": "LITevWhOmQSV",
        "outputId": "c14af130-b5ba-431a-86ae-4920e13ea66f"
      },
      "execution_count": 7,
      "outputs": [
        {
          "output_type": "stream",
          "name": "stdout",
          "text": [
            " two values, a and b, symmetric about the mean, such that the probability of the random variable taking a value between them is [ 48.48 151.52]\n"
          ]
        }
      ]
    },
    {
      "cell_type": "markdown",
      "source": [
        "###5.\tConsider a company that has two different divisions. The annual profits from the two divisions are independent and have distributions Profit1 ~ N(5, 32) and Profit2 ~ N(7, 42) respectively. Both the profits are in  Million. Answer the following questions about the total profit of the company in Rupees. Assume that $1 = Rs. 45\n",
        "###A.\tSpecify a Rupee range (centered on the mean) such that it contains 95% probability for the annual profit of the company.\n",
        "###B.\tSpecify the 5th percentile of profit (in Rupees) for the company\n",
        "###C.\tWhich of the two divisions has a larger probability of making a loss in a given year?\n"
      ],
      "metadata": {
        "id": "tzkCrYk6oPaQ"
      }
    },
    {
      "cell_type": "code",
      "source": [
        "#Combine mean profit of both division Mean= mean1+mean2\n",
        "mean1=5\n",
        "mean2=7\n",
        "Mean=mean1+mean2\n",
        "print(\"The mean profit of both division is \",(Mean*45)/10 ,\"Crore Rupees\")\n",
        "# Combine standard Deviation = (Std1^2 + Std2^2)^1/2\n",
        "std1 = 3**2\n",
        "std2 = 4**2\n",
        "Std = np.sqrt(std1 + std2)\n",
        "print('The Standard Deviation of both division:', Std, 'Million$')\n",
        "print('The Standard Deviation of both division:', (Std*45)/10, 'Crore Rupees')"
      ],
      "metadata": {
        "colab": {
          "base_uri": "https://localhost:8080/"
        },
        "id": "XSznMr9WoO5U",
        "outputId": "f926afca-8752-4cc7-8a4d-3e00a1b1d70a"
      },
      "execution_count": 8,
      "outputs": [
        {
          "output_type": "stream",
          "name": "stdout",
          "text": [
            "The mean profit of both division is  54.0 Crore Rupees\n",
            "The Standard Deviation of both division: 5.0 Million$\n",
            "The Standard Deviation of both division: 22.5 Crore Rupees\n"
          ]
        }
      ]
    },
    {
      "cell_type": "markdown",
      "source": [
        "#### A.\tSpecify a Rupee range (centered on the mean) such that it contains 95% probability for the annual profit of the company."
      ],
      "metadata": {
        "id": "YR0o865mzbF8"
      }
    },
    {
      "cell_type": "code",
      "source": [
        "r1,r2=np.round(stats.norm.interval(0.95,Mean,Std),2)\n",
        "print('The annual profit of the company is:',r1, 'to',r2, ' Million doller in 95% of the time')\n",
        "print('The annual profit of the company in 95% of the time is :-' ,((r1*45)/10), 'to', ((r2*45)/10), 'Crore Rupees in annual profit of 95% of the time ' )"
      ],
      "metadata": {
        "colab": {
          "base_uri": "https://localhost:8080/"
        },
        "id": "iPm9qg0XzLIk",
        "outputId": "78f566f4-69f8-4804-838e-337dcc94ee19"
      },
      "execution_count": 9,
      "outputs": [
        {
          "output_type": "stream",
          "name": "stdout",
          "text": [
            "The annual profit of the company is: 2.2 to 21.8  Million doller in 95% of the time\n",
            "The annual profit of the company in 95% of the time is :- 9.900000000000002 to 98.1 Crore Rupees in annual profit of 95% of the time \n"
          ]
        }
      ]
    },
    {
      "cell_type": "markdown",
      "source": [
        "####B. Specify the 5th percentile of profit (in Rupees) for the company"
      ],
      "metadata": {
        "id": "QCD2_aWU6DO6"
      }
    },
    {
      "cell_type": "code",
      "source": [
        "print('5th Percentile of the profit for the company is:- ', np.percentile(Std+Mean,5),'Crore Rupees')"
      ],
      "metadata": {
        "colab": {
          "base_uri": "https://localhost:8080/"
        },
        "id": "XMTifgD-zYKy",
        "outputId": "f8afe1ea-b47b-4d4e-ff0d-e32a7b4c8ca1"
      },
      "execution_count": 10,
      "outputs": [
        {
          "output_type": "stream",
          "name": "stdout",
          "text": [
            "5th Percentile of the profit for the company is:-  17.0 Crore Rupees\n"
          ]
        }
      ]
    },
    {
      "cell_type": "markdown",
      "source": [
        "####C. Which of the two divisions has a larger probability of making a loss in a given year?"
      ],
      "metadata": {
        "id": "Lhd7jJ9J8Sox"
      }
    },
    {
      "cell_type": "code",
      "source": [
        "mean1=5\n",
        "mean2=7\n",
        "Mean=mean1+mean2\n",
        "std1=np.sqrt(32)\n",
        "std2=np.sqrt(42)\n",
        "p_loss1=np.round(stats.norm.cdf(0,mean1,std1)*100,2)\n",
        "p_loss2=np.round(stats.norm.cdf(0,mean2,std2)*100,2)\n",
        "print('The probability of division 1 making loss is: ',p_loss1,'%')\n",
        "print('The probability of division 1 making loss is: ',p_loss2,'%')\n",
        "if p_loss1>p_loss2:\n",
        "  print('Division 1 has a larger probability of making loss')\n",
        "else:\n",
        "  print('Division 2 has a larger probability of making loss')\n"
      ],
      "metadata": {
        "colab": {
          "base_uri": "https://localhost:8080/"
        },
        "id": "EGPKz4-Y8Lyg",
        "outputId": "8f501079-8e10-43ec-cf44-6775bc903ad0"
      },
      "execution_count": 29,
      "outputs": [
        {
          "output_type": "stream",
          "name": "stdout",
          "text": [
            "The probability of division 1 making loss is:  18.84 %\n",
            "The probability of division 1 making loss is:  14.0 %\n",
            "Division 1 has a larger probability of making loss\n"
          ]
        }
      ]
    }
  ]
}